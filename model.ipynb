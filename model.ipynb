{
 "cells": [
  {
   "cell_type": "markdown",
   "id": "2b306091",
   "metadata": {},
   "source": [
    "### Dostoevsky"
   ]
  },
  {
   "cell_type": "code",
   "execution_count": 1,
   "id": "632c2bbb",
   "metadata": {},
   "outputs": [
    {
     "name": "stderr",
     "output_type": "stream",
     "text": [
      "Warning : `load_model` does not return WordVectorModel or SupervisedModel any more, but a `FastText` object which is very similar.\n"
     ]
    }
   ],
   "source": [
    "from dostoevsky.tokenization import RegexTokenizer\n",
    "from dostoevsky.models import FastTextSocialNetworkModel\n",
    "\n",
    "tokenizer = RegexTokenizer()\n",
    "model = FastTextSocialNetworkModel(tokenizer=tokenizer)"
   ]
  },
  {
   "cell_type": "code",
   "execution_count": 2,
   "id": "d3badda8",
   "metadata": {},
   "outputs": [],
   "source": [
    "message = 'Hello!'\n",
    "\n",
    "#results = model.predict(messages, k=2)\n",
    "#for message, sentiment in zip(messages, results):\n",
    "#    print(message, '-&gt;', sentiment)"
   ]
  },
  {
   "cell_type": "code",
   "execution_count": 6,
   "id": "8a37e4f2",
   "metadata": {},
   "outputs": [
    {
     "name": "stdout",
     "output_type": "stream",
     "text": [
      "H {'neutral': 1.0000100135803223, 'negative': 1.0000003385357559e-05}\n",
      "e {'neutral': 1.0000100135803223, 'negative': 1.0000003385357559e-05}\n",
      "l {'neutral': 1.0000100135803223, 'negative': 1.0000003385357559e-05}\n",
      "l {'neutral': 1.0000100135803223, 'negative': 1.0000003385357559e-05}\n",
      "o {'neutral': 1.0000100135803223, 'negative': 1.0000003385357559e-05}\n",
      "! {'neutral': 0.9992778301239014, 'negative': 1.0000003385357559e-05}\n"
     ]
    }
   ],
   "source": [
    "for i, j in zip(message, model.predict(message, k=2)):\n",
    "    print(i, j)"
   ]
  },
  {
   "cell_type": "markdown",
   "id": "e3e9907d",
   "metadata": {},
   "source": [
    "### TextBlob"
   ]
  },
  {
   "cell_type": "code",
   "execution_count": 8,
   "id": "a66ce64e",
   "metadata": {},
   "outputs": [],
   "source": [
    "from textblob import TextBlob"
   ]
  },
  {
   "cell_type": "code",
   "execution_count": 14,
   "id": "564b11f6",
   "metadata": {},
   "outputs": [
    {
     "name": "stdout",
     "output_type": "stream",
     "text": [
      "Type your text here:  Poor enforcement of building regulations contributed to the collapse of many buildings in Monday's earthquakes.Construction regulations were tightened following previous disasters in Turkey, most recently in 2018.  Stricter safety standards were also brought in following the 1999 earthquake around the city of Izmit, in the north-west of the country, in which 17,000 people died.  But periodic \"construction amnesties\", which offer legal exemption to those structures built without the required safety certificates for a stated fee, have contributed to the recent catastrophe, experts suggest.\n"
     ]
    }
   ],
   "source": [
    "text = input('Type your text here: ')"
   ]
  },
  {
   "cell_type": "code",
   "execution_count": 53,
   "id": "4c2f8c81",
   "metadata": {},
   "outputs": [],
   "source": [
    "def model(text=text):\n",
    "    \n",
    "    analysis = TextBlob(text).sentiment\n",
    "    polarity = round(analysis[0], 2)\n",
    "    subjectivity = round(analysis[1], 2)\n",
    "    \n",
    "    polarity_class = ''\n",
    "    subjectivity_class = ''\n",
    "    \n",
    "    if polarity < -0.5:\n",
    "        polarity_class = 'negative'\n",
    "    \n",
    "    elif (polarity >= - 0.5) & (polarity <= 0.5):\n",
    "        polarity_class = 'neutral'\n",
    "        \n",
    "    elif polarity > 0.5:\n",
    "        polarity_class = 'positive'\n",
    "    \n",
    "    if subjectivity < 0.40:\n",
    "        subjectivity_class = 'closer to objective'\n",
    "    \n",
    "    elif subjectivity > 0.90:\n",
    "        subjectivity_class = 'closer to subjective'\n",
    "        \n",
    "    elif (subjectivity >= 0.25) & (subjectivity <= 0.75):\n",
    "        subjectivity_class = 'hard to detect subjectivity'\n",
    "        \n",
    "    return {'polarity':polarity, 'polarity_class':polarity_class, \n",
    "            'subjectivity':subjectivity, 'subjectivity_class':subjectivity_class}"
   ]
  },
  {
   "cell_type": "code",
   "execution_count": 37,
   "id": "136ca03f",
   "metadata": {},
   "outputs": [],
   "source": [
    "results = model()"
   ]
  },
  {
   "cell_type": "code",
   "execution_count": 38,
   "id": "91e1bf84",
   "metadata": {},
   "outputs": [
    {
     "data": {
      "text/plain": [
       "{'polarity': 0.07,\n",
       " 'polarity_class': 'neutral',\n",
       " 'subjectivity': 0.3,\n",
       " 'subjectivity_class': 'closer to objective'}"
      ]
     },
     "execution_count": 38,
     "metadata": {},
     "output_type": "execute_result"
    }
   ],
   "source": [
    "results"
   ]
  },
  {
   "cell_type": "code",
   "execution_count": 63,
   "id": "5975d1cb",
   "metadata": {},
   "outputs": [],
   "source": [
    "def print_output(results=results):\n",
    "    \n",
    "    comment_polarity = ''\n",
    "    \n",
    "    if results['polarity_class'] == 'negative':\n",
    "        comment_polarity = 'There are sertain markers that your text has negative connotation. You can try using more neutral or positive words.'\n",
    "\n",
    "    if results['polarity_class'] == 'positive':\n",
    "        comment_polarity = 'There are sertain markers that your text has positive connotation. You can reduce this level by adding more neutral words.'\n",
    "\n",
    "    if results['polarity_class'] == 'neutral':\n",
    "        comment_polarity = 'There are sertain markers that your text has neutral connotation. You can change this level by adding negative or positive words.'\n",
    "        \n",
    "        print(f\"\"\"\n",
    "The analysis of polarity has shown that your text is {results['polarity_class']}.\n",
    "\n",
    "The polarity score is {results['polarity']}. {comment_polarity}\n",
    "\n",
    "the analysis of subjectivity has shown that your text is {results['subjectivity_class']}.\n",
    "\n",
    "The subjectivity score is {results['subjectivity']}.\n",
    "           \"\"\")"
   ]
  },
  {
   "cell_type": "code",
   "execution_count": 64,
   "id": "51d0ca08",
   "metadata": {
    "scrolled": true
   },
   "outputs": [
    {
     "name": "stdout",
     "output_type": "stream",
     "text": [
      "\n",
      "The analysis of polarity has shown that your text is neutral.\n",
      "\n",
      "The polarity score is 0.07. There are sertain markers that your text has neutral connotation. You can change this level by adding negative or positive words.\n",
      "\n",
      "the analysis of subjectivity has shown that your text is closer to objective.\n",
      "\n",
      "The subjectivity score is 0.3.\n",
      "           \n"
     ]
    }
   ],
   "source": [
    "print_output()"
   ]
  }
 ],
 "metadata": {
  "kernelspec": {
   "display_name": "Python 3 (ipykernel)",
   "language": "python",
   "name": "python3"
  },
  "language_info": {
   "codemirror_mode": {
    "name": "ipython",
    "version": 3
   },
   "file_extension": ".py",
   "mimetype": "text/x-python",
   "name": "python",
   "nbconvert_exporter": "python",
   "pygments_lexer": "ipython3",
   "version": "3.9.12"
  }
 },
 "nbformat": 4,
 "nbformat_minor": 5
}
